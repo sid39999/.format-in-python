{
 "cells": [
  {
   "cell_type": "markdown",
   "id": "81d0772f",
   "metadata": {},
   "source": [
    "#                          Welcome To Our Challenge\n",
    "                                100 Days of Code Challenge\n",
    "\n",
    "                    Challenge Accepted by YOUTUBER:   SANCHIT AGRAWAL"
   ]
  },
  {
   "cell_type": "raw",
   "id": "6f894b70",
   "metadata": {},
   "source": [
    "YOUTUBE CHANNEL Name: Sanchit Agrawal"
   ]
  },
  {
   "cell_type": "markdown",
   "id": "5c1f97a7",
   "metadata": {},
   "source": [
    "#                                           DAY 14\n",
    "                                         LET'S BEGIN"
   ]
  },
  {
   "cell_type": "markdown",
   "id": "a861b022",
   "metadata": {},
   "source": [
    "# .format in Python"
   ]
  },
  {
   "cell_type": "code",
   "execution_count": 2,
   "id": "9264e314",
   "metadata": {},
   "outputs": [
    {
     "name": "stdout",
     "output_type": "stream",
     "text": [
      "enter your name Sanchit/Mohit: Sanchit\n",
      "hello Sanchit\n"
     ]
    }
   ],
   "source": [
    "name = input('enter your name Sanchit/Mohit: ')\n",
    "\n",
    "a = 'Sanchit'\n",
    "b = \"Mohit\"\n",
    "c = 'skljksaj'\n",
    "\n",
    "if name == a:\n",
    "    print('hello',a)\n",
    "elif name == b:\n",
    "    print('hello',b)\n",
    "else:\n",
    "    print('choose Sanchit or Mohit')"
   ]
  },
  {
   "cell_type": "code",
   "execution_count": 4,
   "id": "4b219a43",
   "metadata": {},
   "outputs": [
    {
     "name": "stdout",
     "output_type": "stream",
     "text": [
      "enter your name: lolo\n",
      "hello lolo\n"
     ]
    }
   ],
   "source": [
    "name = input('enter your name: ')\n",
    "print('hello {}'.format(name))"
   ]
  },
  {
   "cell_type": "code",
   "execution_count": 5,
   "id": "68ebccba",
   "metadata": {},
   "outputs": [
    {
     "name": "stdout",
     "output_type": "stream",
     "text": [
      "enter your namesanchit\n",
      "enter your age23\n",
      "hello sanchit your age is 23\n"
     ]
    }
   ],
   "source": [
    "name =  input('enter your name')\n",
    "age = int(input('enter your age'))\n",
    "\n",
    "print('hello {} your age is {}'.format(name,age))"
   ]
  },
  {
   "cell_type": "code",
   "execution_count": 6,
   "id": "7cbfa0b6",
   "metadata": {},
   "outputs": [
    {
     "name": "stdout",
     "output_type": "stream",
     "text": [
      "enter your namesanchit\n",
      "enter your age23\n",
      "hello 23 your age is sanchit\n"
     ]
    }
   ],
   "source": [
    "name =  input('enter your name')\n",
    "age = int(input('enter your age'))\n",
    "\n",
    "print('hello {} your age is {}'.format(age,name))"
   ]
  },
  {
   "cell_type": "code",
   "execution_count": 7,
   "id": "53bc2670",
   "metadata": {},
   "outputs": [
    {
     "name": "stdout",
     "output_type": "stream",
     "text": [
      "enter your namesanchit\n",
      "enter your age23\n",
      "hello sanchit your age is 23\n"
     ]
    }
   ],
   "source": [
    "name =  input('enter your name')\n",
    "age = int(input('enter your age'))\n",
    "\n",
    "print('hello {1} your age is {0}'.format(age,name))"
   ]
  },
  {
   "cell_type": "code",
   "execution_count": 9,
   "id": "f8d2c496",
   "metadata": {},
   "outputs": [
    {
     "name": "stdout",
     "output_type": "stream",
     "text": [
      "the value of pi is 3.41\n"
     ]
    }
   ],
   "source": [
    "pi = 3.4145678989\n",
    "print('the value of pi is {:.2f}'.format(pi))"
   ]
  },
  {
   "cell_type": "code",
   "execution_count": null,
   "id": "cc538291",
   "metadata": {},
   "outputs": [],
   "source": [
    "f strings"
   ]
  },
  {
   "cell_type": "code",
   "execution_count": null,
   "id": "1828637c",
   "metadata": {},
   "outputs": [],
   "source": []
  }
 ],
 "metadata": {
  "kernelspec": {
   "display_name": "Python 3 (ipykernel)",
   "language": "python",
   "name": "python3"
  },
  "language_info": {
   "codemirror_mode": {
    "name": "ipython",
    "version": 3
   },
   "file_extension": ".py",
   "mimetype": "text/x-python",
   "name": "python",
   "nbconvert_exporter": "python",
   "pygments_lexer": "ipython3",
   "version": "3.11.5"
  }
 },
 "nbformat": 4,
 "nbformat_minor": 5
}
